{
 "cells": [
  {
   "cell_type": "markdown",
   "metadata": {},
   "source": [
    "## Question 1"
   ]
  },
  {
   "cell_type": "markdown",
   "metadata": {},
   "source": [
    "### (a) Write a function with signature VectorLength(x, y) that computes the length of a vector, v, with components in cartesian coordinates (x, y). i.e. $\\sqrt{x^2+y^2}$\n",
    "\n",
    "### Use NumPy for the square root function."
   ]
  },
  {
   "cell_type": "code",
   "execution_count": 475,
   "metadata": {},
   "outputs": [],
   "source": [
    "## Imports\n",
    "\n",
    "import numpy as np\n",
    "import matplotlib.pyplot as plt"
   ]
  },
  {
   "cell_type": "code",
   "execution_count": 476,
   "metadata": {},
   "outputs": [],
   "source": [
    "# Function that computes the length of a vector, v, with components in catesian coordinates (x, y).\n",
    "\n",
    "def VectorLength(x, y):\n",
    "    v = np.array([x, y])\n",
    "    vector_length = np.sqrt(x**2 + y**2)\n",
    "    print (\"The length of the vector\", v, \"is %f\" % (vector_length))"
   ]
  },
  {
   "cell_type": "markdown",
   "metadata": {},
   "source": [
    "### (b) Using the VectorLength(x, y) function print the length of vectors with components $𝑣 = (5,6)$  and  $𝑣 = (−1,5)$"
   ]
  },
  {
   "cell_type": "code",
   "execution_count": 477,
   "metadata": {},
   "outputs": [
    {
     "name": "stdout",
     "output_type": "stream",
     "text": [
      "The length of the vector [5 6] is 7.810250\n"
     ]
    }
   ],
   "source": [
    "# Call method passing vector coordinates (5 ,6)\n",
    "\n",
    "VectorLength(5, 6)"
   ]
  },
  {
   "cell_type": "code",
   "execution_count": 500,
   "metadata": {},
   "outputs": [
    {
     "name": "stdout",
     "output_type": "stream",
     "text": [
      "The length of the vector [-1  5] is 5.099020\n"
     ]
    }
   ],
   "source": [
    "# Call method passing vector coordinates (-1 ,5)\n",
    "\n",
    "VectorLength(-1, 5)"
   ]
  },
  {
   "cell_type": "markdown",
   "metadata": {},
   "source": [
    "### (c) Modify the sine command to print to only 3 decimal points"
   ]
  },
  {
   "cell_type": "code",
   "execution_count": 479,
   "metadata": {},
   "outputs": [
    {
     "name": "stdout",
     "output_type": "stream",
     "text": [
      "sin(1)= 0.841\n"
     ]
    }
   ],
   "source": [
    "# Calculate the function sin(1) to 3 decimal places\n",
    "\n",
    "sin_to_3 = np.sin(1)\n",
    "print(\"sin(1)= %.3f\" % sin_to_3)"
   ]
  },
  {
   "cell_type": "markdown",
   "metadata": {},
   "source": [
    "## Quesion 2\n",
    "### The following function claims to check if a number is prime. Copy it in to your Python Jupyter notebook."
   ]
  },
  {
   "cell_type": "markdown",
   "metadata": {},
   "source": [
    "### (a) Does the function work correctly? Check the values from 1 to 10."
   ]
  },
  {
   "cell_type": "code",
   "execution_count": 480,
   "metadata": {},
   "outputs": [],
   "source": [
    "# Copy of function that claims to check if a number is prime\n",
    "\n",
    "def IsPrime(n):\n",
    "    i = 2\n",
    "    while i < np.sqrt(n):\n",
    "        #range (2, np.sqrt(n))\n",
    "        if (n % i == 0):\n",
    "            return 0\n",
    "        i += 1\n",
    "    return 1"
   ]
  },
  {
   "cell_type": "code",
   "execution_count": 481,
   "metadata": {},
   "outputs": [
    {
     "name": "stdout",
     "output_type": "stream",
     "text": [
      "1\n",
      "1\n",
      "1\n",
      "1\n",
      "1\n",
      "1\n",
      "0\n",
      "1\n",
      "0\n",
      "1\n",
      "0\n"
     ]
    }
   ],
   "source": [
    "# Check if the function works by calculating values from 0 - 10\n",
    "\n",
    "for x in range (0, 11):\n",
    "    print (IsPrime(x))"
   ]
  },
  {
   "cell_type": "markdown",
   "metadata": {},
   "source": [
    "## written explanation\n",
    "The function does not work. It incorrectly concludes that $0, 1, 4,$ and $9$ are prime numbers, when only $2, 3, 5, 7$ are prime numbers. The function does not account for numbers less than 2, and it does not account for the divisor being equal to the square root of the number being checked\n",
    "\n",
    "e.g. if $n = 9$\n",
    "\n",
    "    2 < 3 (the square root of 9)\n",
    "    \n",
    "    divisor = 1\n",
    "    \n",
    "    so the loop skips and determines answer 1"
   ]
  },
  {
   "cell_type": "markdown",
   "metadata": {},
   "source": [
    "### (b) At the start of the function add an if-statement to correct the $n = 1$ case"
   ]
  },
  {
   "cell_type": "code",
   "execution_count": 482,
   "metadata": {},
   "outputs": [],
   "source": [
    "# Prime check function corrected for n = 1 by adding an if-statement\n",
    "\n",
    "def IsPrimeFixed_1(n):\n",
    "    # if statement added to account for n less than 2, therefore correcting the n = 1 case.\n",
    "    if n < 2:\n",
    "        return 0\n",
    "    i = 2\n",
    "    while i < np.sqrt(n):\n",
    "        if (n % i == 0):\n",
    "            return 0\n",
    "        i += 1\n",
    "    return 1"
   ]
  },
  {
   "cell_type": "code",
   "execution_count": 483,
   "metadata": {},
   "outputs": [
    {
     "name": "stdout",
     "output_type": "stream",
     "text": [
      "0\n",
      "0\n",
      "1\n",
      "1\n",
      "1\n",
      "1\n",
      "0\n",
      "1\n",
      "0\n",
      "1\n",
      "0\n"
     ]
    }
   ],
   "source": [
    "# Call fixed function to prove that the case, n = 1, has been corrected\n",
    "\n",
    "for x in range (0, 11):\n",
    "    print (IsPrimeFixed_1(x))"
   ]
  },
  {
   "cell_type": "markdown",
   "metadata": {},
   "source": [
    "The code now works for 0 and 1."
   ]
  },
  {
   "cell_type": "markdown",
   "metadata": {},
   "source": [
    "### (c) By putting a print statement inside the while loop, work out why the function returns, e.g. 1 for $n = 9$. Fix the function to make it work. Write a comment that describes the fix."
   ]
  },
  {
   "cell_type": "code",
   "execution_count": 486,
   "metadata": {},
   "outputs": [],
   "source": [
    "# Prime checker is fixed, with cases below 2 AND the sqaure root divisor check being fixed.\n",
    "\n",
    "def IsPrimeFixed(n):\n",
    "    if n < 2:\n",
    "        return 0\n",
    "    i = 2\n",
    "    while i <= np.sqrt(n):\n",
    "    # the problem with the function is that the loop stops before it tests for the square root divisor being 0, which is the determinant of eg. 9 being a prime\n",
    "    # therefore to fix loop, include i is less than or EQUAL to the square root of the number\n",
    "        #print(\"n = %d\" % n)\n",
    "        #print(\"i = %d\" % i)\n",
    "        #print(\"div is\", n % i)\n",
    "        if (n % i == 0):\n",
    "            return 0\n",
    "        i += 1\n",
    "    return 1"
   ]
  },
  {
   "cell_type": "code",
   "execution_count": 487,
   "metadata": {},
   "outputs": [
    {
     "name": "stdout",
     "output_type": "stream",
     "text": [
      "0\n",
      "0\n",
      "1\n",
      "1\n",
      "0\n",
      "1\n",
      "0\n",
      "1\n",
      "0\n",
      "0\n",
      "0\n"
     ]
    }
   ],
   "source": [
    "# Call corrected function using values 1 - 10 to verify that it works for all prime numbers, especially the case n = 9\n",
    "\n",
    "for x in range (0, 11):\n",
    "    print (IsPrimeFixed(x))"
   ]
  },
  {
   "cell_type": "markdown",
   "metadata": {},
   "source": [
    "### (d) Commit the code using the message “Fixed IsPrime function” and push the fixed code to GitHub."
   ]
  },
  {
   "cell_type": "markdown",
   "metadata": {},
   "source": [
    "Done!"
   ]
  },
  {
   "cell_type": "code",
   "execution_count": 488,
   "metadata": {},
   "outputs": [],
   "source": [
    "# Fixed function without comment in the loop, for neatness-sake\n",
    "\n",
    "def IsPrimeFixed(n):\n",
    "    if n < 2:\n",
    "        return 0\n",
    "    i = 2\n",
    "    while i <= np.sqrt(n):\n",
    "        if (n % i == 0):\n",
    "            return 0\n",
    "        i += 1\n",
    "    return 1"
   ]
  },
  {
   "cell_type": "markdown",
   "metadata": {},
   "source": [
    "### (e) Using the corrected IsPrime() function, write a loop that calculates the number of prime numbers less than 1000. Print the total number of primes less than 1000."
   ]
  },
  {
   "cell_type": "code",
   "execution_count": 489,
   "metadata": {},
   "outputs": [],
   "source": [
    "# Function including a loop that calls the fixed IsPrime() function\n",
    "# that calculates and prints the number of prime numbers less than 1000.\n",
    "\n",
    "def primes_under_1000():\n",
    "    counter = 0\n",
    "    for x in range (0, 1000):\n",
    "        if IsPrimeFixed(x) == 1:\n",
    "            counter += 1\n",
    "    print (\"The total number of prime numbers under 1000 is %d\" % counter)"
   ]
  },
  {
   "cell_type": "code",
   "execution_count": 490,
   "metadata": {},
   "outputs": [
    {
     "name": "stdout",
     "output_type": "stream",
     "text": [
      "The total number of prime numbers under 1000 is 168\n"
     ]
    }
   ],
   "source": [
    "primes_under_1000()"
   ]
  },
  {
   "cell_type": "markdown",
   "metadata": {},
   "source": [
    "### (f) The prime counting function is defined to be the number of primes less than or equal to $x$. By using your answer to part e) write a function with signature PrimeCount(x) that computes $\\pi(x)$. You can check your function against the results in the Table on http://mathworld.wolfram.com/PrimeCountingFunction.html.\n",
    "\n",
    "### Print the values of PrimeCount(1000) and PrimeCount(10000)."
   ]
  },
  {
   "cell_type": "code",
   "execution_count": 491,
   "metadata": {},
   "outputs": [],
   "source": [
    "# Function that counts the number of primes less than or equal to x\n",
    "# by calling the fixed IsPrime() function and using the same loop as created in art (e)\n",
    "\n",
    "def PrimeCount(x):\n",
    "    counter = 0\n",
    "    for n in range (0, x):\n",
    "        if IsPrimeFixed(n) == 1:\n",
    "            counter += 1\n",
    "    #print (u'\\U0001D6D1(x) is : %d' % counter)\n",
    "        #I wanted to include the pi symbol for neatness sake but it doesn't work for the next question ! ^^\n",
    "    return counter"
   ]
  },
  {
   "cell_type": "code",
   "execution_count": 492,
   "metadata": {},
   "outputs": [
    {
     "data": {
      "text/plain": [
       "168"
      ]
     },
     "execution_count": 492,
     "metadata": {},
     "output_type": "execute_result"
    }
   ],
   "source": [
    "PrimeCount(1000)"
   ]
  },
  {
   "cell_type": "code",
   "execution_count": 493,
   "metadata": {},
   "outputs": [
    {
     "data": {
      "text/plain": [
       "1229"
      ]
     },
     "execution_count": 493,
     "metadata": {},
     "output_type": "execute_result"
    }
   ],
   "source": [
    "PrimeCount(10000)"
   ]
  },
  {
   "cell_type": "markdown",
   "metadata": {},
   "source": [
    "### (g) The following code will plot the PrimeCounting function for values less than 40. Copy it into your notebook and add a grid, an x-label ‘$x$’, and a y-label ‘$\\pi(x)$’"
   ]
  },
  {
   "cell_type": "code",
   "execution_count": 494,
   "metadata": {},
   "outputs": [],
   "source": [
    "@np.vectorize\n",
    "def PrimeCounting():\n",
    "    x = np.arange(0, 40, 1)\n",
    "    Pi = np.zeros(40)\n",
    "    \n",
    "    #grid, x-axis label and y-axis label and title (extra!)\n",
    "    plt.grid(True)\n",
    "    plt.xlabel(\"x\")\n",
    "    plt.ylabel(\"pi(x)\")\n",
    "    plt.title(\"Prime Counts under 40\")\n",
    "\n",
    "    i = 0\n",
    "    while i < np.size(Pi):\n",
    "        Pi[i] = PrimeCount(i)\n",
    "        i += 1\n",
    "        \n",
    "    plt.plot(x, Pi, 'ro')"
   ]
  },
  {
   "cell_type": "code",
   "execution_count": 495,
   "metadata": {},
   "outputs": [
    {
     "data": {
      "image/png": "[encoded data removed]",
      "text/plain": [
       "<Figure size 432x288 with 1 Axes>"
      ]
     },
     "metadata": {
      "needs_background": "light"
     },
     "output_type": "display_data"
    }
   ],
   "source": [
    "PrimeCounting()"
   ]
  },
  {
   "cell_type": "markdown",
   "metadata": {},
   "source": [
    "### (h) Commit and push your code to GitHub."
   ]
  },
  {
   "cell_type": "markdown",
   "metadata": {},
   "source": [
    "Done!"
   ]
  },
  {
   "cell_type": "markdown",
   "metadata": {},
   "source": [
    "## Question 3"
   ]
  },
  {
   "cell_type": "markdown",
   "metadata": {},
   "source": [
    "### (a) Download the file PowerLawOrExponential.txt from BrightSpace and save it into your ACM20030-Assignments-2021-22 folder. Commit this file to the repository and push the changes to GitHub."
   ]
  },
  {
   "cell_type": "markdown",
   "metadata": {},
   "source": [
    "Done!"
   ]
  },
  {
   "cell_type": "markdown",
   "metadata": {},
   "source": [
    "### (b) Load the data using the np.loadtxt( ) function. Define an ‘$x$’ variable using the data in the first column, and a ‘$y$’ variable usage the data in the second column."
   ]
  },
  {
   "cell_type": "code",
   "execution_count": 496,
   "metadata": {},
   "outputs": [],
   "source": [
    "# Load data using np.loadtext() function and print it.\n",
    "\n",
    "PowerLawOrExponential = np.loadtxt(\"C:/Users/ciara/OneDrive/Documents/GitHub/assignments-2021-22-ciaragavin/PowerLawOrExponential.txt\")\n",
    "\n",
    "# ‘x’ variable  defined using the data in the first column\n",
    "# and ‘y’ variable defined usage the data in the second column.\n",
    "\n",
    "x, y = PowerLawOrExponential[:,0], PowerLawOrExponential[:,1]"
   ]
  },
  {
   "cell_type": "code",
   "execution_count": 497,
   "metadata": {},
   "outputs": [
    {
     "name": "stdout",
     "output_type": "stream",
     "text": [
      "[[1.000e-01 1.000e-02]\n",
      " [2.000e-01 4.000e-02]\n",
      " [3.000e-01 9.000e-02]\n",
      " [4.000e-01 1.600e-01]\n",
      " [5.000e-01 2.500e-01]\n",
      " [6.000e-01 3.600e-01]\n",
      " [7.000e-01 4.900e-01]\n",
      " [8.000e-01 6.400e-01]\n",
      " [9.000e-01 8.100e-01]\n",
      " [1.000e+00 1.000e+00]\n",
      " [1.100e+00 1.210e+00]\n",
      " [1.200e+00 1.440e+00]\n",
      " [1.300e+00 1.690e+00]\n",
      " [1.400e+00 1.960e+00]\n",
      " [1.500e+00 2.250e+00]\n",
      " [1.600e+00 2.560e+00]\n",
      " [1.700e+00 2.890e+00]\n",
      " [1.800e+00 3.240e+00]\n",
      " [1.900e+00 3.610e+00]\n",
      " [2.000e+00 4.000e+00]\n",
      " [2.100e+00 4.410e+00]\n",
      " [2.200e+00 4.840e+00]\n",
      " [2.300e+00 5.290e+00]\n",
      " [2.400e+00 5.760e+00]\n",
      " [2.500e+00 6.250e+00]\n",
      " [2.600e+00 6.760e+00]\n",
      " [2.700e+00 7.290e+00]\n",
      " [2.800e+00 7.840e+00]\n",
      " [2.900e+00 8.410e+00]\n",
      " [3.000e+00 9.000e+00]\n",
      " [3.100e+00 9.610e+00]\n",
      " [3.200e+00 1.024e+01]\n",
      " [3.300e+00 1.089e+01]\n",
      " [3.400e+00 1.156e+01]\n",
      " [3.500e+00 1.225e+01]\n",
      " [3.600e+00 1.296e+01]\n",
      " [3.700e+00 1.369e+01]\n",
      " [3.800e+00 1.444e+01]\n",
      " [3.900e+00 1.521e+01]\n",
      " [4.000e+00 1.600e+01]\n",
      " [4.100e+00 1.681e+01]\n",
      " [4.200e+00 1.764e+01]\n",
      " [4.300e+00 1.849e+01]\n",
      " [4.400e+00 1.936e+01]\n",
      " [4.500e+00 2.025e+01]\n",
      " [4.600e+00 2.116e+01]\n",
      " [4.700e+00 2.209e+01]\n",
      " [4.800e+00 2.304e+01]\n",
      " [4.900e+00 2.401e+01]\n",
      " [5.000e+00 2.500e+01]\n",
      " [5.100e+00 2.601e+01]\n",
      " [5.200e+00 2.704e+01]\n",
      " [5.300e+00 2.809e+01]\n",
      " [5.400e+00 2.916e+01]\n",
      " [5.500e+00 3.025e+01]\n",
      " [5.600e+00 3.136e+01]\n",
      " [5.700e+00 3.249e+01]\n",
      " [5.800e+00 3.364e+01]\n",
      " [5.900e+00 3.481e+01]\n",
      " [6.000e+00 3.600e+01]\n",
      " [6.100e+00 3.721e+01]\n",
      " [6.200e+00 3.844e+01]\n",
      " [6.300e+00 3.969e+01]\n",
      " [6.400e+00 4.096e+01]\n",
      " [6.500e+00 4.225e+01]\n",
      " [6.600e+00 4.356e+01]\n",
      " [6.700e+00 4.489e+01]\n",
      " [6.800e+00 4.624e+01]\n",
      " [6.900e+00 4.761e+01]\n",
      " [7.000e+00 4.900e+01]\n",
      " [7.100e+00 5.041e+01]\n",
      " [7.200e+00 5.184e+01]\n",
      " [7.300e+00 5.329e+01]\n",
      " [7.400e+00 5.476e+01]\n",
      " [7.500e+00 5.625e+01]\n",
      " [7.600e+00 5.776e+01]\n",
      " [7.700e+00 5.929e+01]\n",
      " [7.800e+00 6.084e+01]\n",
      " [7.900e+00 6.241e+01]\n",
      " [8.000e+00 6.400e+01]\n",
      " [8.100e+00 6.561e+01]\n",
      " [8.200e+00 6.724e+01]\n",
      " [8.300e+00 6.889e+01]\n",
      " [8.400e+00 7.056e+01]\n",
      " [8.500e+00 7.225e+01]\n",
      " [8.600e+00 7.396e+01]\n",
      " [8.700e+00 7.569e+01]\n",
      " [8.800e+00 7.744e+01]\n",
      " [8.900e+00 7.921e+01]\n",
      " [9.000e+00 8.100e+01]\n",
      " [9.100e+00 8.281e+01]\n",
      " [9.200e+00 8.464e+01]\n",
      " [9.300e+00 8.649e+01]\n",
      " [9.400e+00 8.836e+01]\n",
      " [9.500e+00 9.025e+01]\n",
      " [9.600e+00 9.216e+01]\n",
      " [9.700e+00 9.409e+01]\n",
      " [9.800e+00 9.604e+01]\n",
      " [9.900e+00 9.801e+01]\n",
      " [1.000e+01 1.000e+02]]\n",
      "[ 0.1  0.2  0.3  0.4  0.5  0.6  0.7  0.8  0.9  1.   1.1  1.2  1.3  1.4\n",
      "  1.5  1.6  1.7  1.8  1.9  2.   2.1  2.2  2.3  2.4  2.5  2.6  2.7  2.8\n",
      "  2.9  3.   3.1  3.2  3.3  3.4  3.5  3.6  3.7  3.8  3.9  4.   4.1  4.2\n",
      "  4.3  4.4  4.5  4.6  4.7  4.8  4.9  5.   5.1  5.2  5.3  5.4  5.5  5.6\n",
      "  5.7  5.8  5.9  6.   6.1  6.2  6.3  6.4  6.5  6.6  6.7  6.8  6.9  7.\n",
      "  7.1  7.2  7.3  7.4  7.5  7.6  7.7  7.8  7.9  8.   8.1  8.2  8.3  8.4\n",
      "  8.5  8.6  8.7  8.8  8.9  9.   9.1  9.2  9.3  9.4  9.5  9.6  9.7  9.8\n",
      "  9.9 10. ]\n",
      "[1.000e-02 4.000e-02 9.000e-02 1.600e-01 2.500e-01 3.600e-01 4.900e-01\n",
      " 6.400e-01 8.100e-01 1.000e+00 1.210e+00 1.440e+00 1.690e+00 1.960e+00\n",
      " 2.250e+00 2.560e+00 2.890e+00 3.240e+00 3.610e+00 4.000e+00 4.410e+00\n",
      " 4.840e+00 5.290e+00 5.760e+00 6.250e+00 6.760e+00 7.290e+00 7.840e+00\n",
      " 8.410e+00 9.000e+00 9.610e+00 1.024e+01 1.089e+01 1.156e+01 1.225e+01\n",
      " 1.296e+01 1.369e+01 1.444e+01 1.521e+01 1.600e+01 1.681e+01 1.764e+01\n",
      " 1.849e+01 1.936e+01 2.025e+01 2.116e+01 2.209e+01 2.304e+01 2.401e+01\n",
      " 2.500e+01 2.601e+01 2.704e+01 2.809e+01 2.916e+01 3.025e+01 3.136e+01\n",
      " 3.249e+01 3.364e+01 3.481e+01 3.600e+01 3.721e+01 3.844e+01 3.969e+01\n",
      " 4.096e+01 4.225e+01 4.356e+01 4.489e+01 4.624e+01 4.761e+01 4.900e+01\n",
      " 5.041e+01 5.184e+01 5.329e+01 5.476e+01 5.625e+01 5.776e+01 5.929e+01\n",
      " 6.084e+01 6.241e+01 6.400e+01 6.561e+01 6.724e+01 6.889e+01 7.056e+01\n",
      " 7.225e+01 7.396e+01 7.569e+01 7.744e+01 7.921e+01 8.100e+01 8.281e+01\n",
      " 8.464e+01 8.649e+01 8.836e+01 9.025e+01 9.216e+01 9.409e+01 9.604e+01\n",
      " 9.801e+01 1.000e+02]\n"
     ]
    }
   ],
   "source": [
    "# show that everything has loaded and that the columns have been defined as x and y, respectively.\n",
    "\n",
    "print(PowerLawOrExponential)\n",
    "print(x)\n",
    "print(y)"
   ]
  },
  {
   "cell_type": "markdown",
   "metadata": {},
   "source": [
    "### (c) Make two plots showing the data on log and log-log scales. Make sure both plots are labelled and have a grid."
   ]
  },
  {
   "cell_type": "code",
   "execution_count": 498,
   "metadata": {},
   "outputs": [
    {
     "data": {
      "text/plain": [
       "[<matplotlib.lines.Line2D at 0x20966cbba90>]"
      ]
     },
     "execution_count": 498,
     "metadata": {},
     "output_type": "execute_result"
    },
    {
     "data": {
      "image/png": "[encoded data removed]",
      "text/plain": [
       "<Figure size 432x288 with 1 Axes>"
      ]
     },
     "metadata": {
      "needs_background": "light"
     },
     "output_type": "display_data"
    }
   ],
   "source": [
    "# Plot data on log scale with a grid and labelled axes\n",
    "\n",
    "x = PowerLawOrExponential[:,0]\n",
    "y = PowerLawOrExponential[:,1]\n",
    "\n",
    "plt.xlabel(\"x\")\n",
    "plt.ylabel(\"log(y)\")\n",
    "plt.title(\"(Power Law because not straight line slope)\")\n",
    "plt.suptitle(\"Power Law Or Exponential\")\n",
    "plt.grid(True)\n",
    "\n",
    "plt.plot(x, np.log(y))\n",
    "\n",
    "# not exponential low ==== not straight line for x vs log(y)\n",
    "# ==== exponential law functions look straight for x vs log(y) scales\n",
    "### POWER LAW"
   ]
  },
  {
   "cell_type": "code",
   "execution_count": 499,
   "metadata": {},
   "outputs": [
    {
     "data": {
      "text/plain": [
       "[<matplotlib.lines.Line2D at 0x20966cfec40>]"
      ]
     },
     "execution_count": 499,
     "metadata": {},
     "output_type": "execute_result"
    },
    {
     "data": {
      "image/png": "[encoded data removed]",
      "text/plain": [
       "<Figure size 432x288 with 1 Axes>"
      ]
     },
     "metadata": {
      "needs_background": "light"
     },
     "output_type": "display_data"
    }
   ],
   "source": [
    "# Plot data on log-log scale with a grid and labelled axes\n",
    "\n",
    "x = PowerLawOrExponential[:,0]\n",
    "y = PowerLawOrExponential[:,1]\n",
    "\n",
    "plt.xlabel(\"log(x)\")\n",
    "plt.ylabel(\"log(y)\")\n",
    "plt.title(\"(Power Law because straight line slope)\")\n",
    "plt.suptitle(\"Power Law Or Exponential\")\n",
    "plt.grid(True)\n",
    "\n",
    "plt.plot(np.log(x), np.log(y))\n",
    "\n",
    "# straight line for log(x) vs log(y)\n",
    "## ===== power law functions look straight for log-log scales\n",
    "### POWER LAW\n",
    "#### n = slope"
   ]
  },
  {
   "cell_type": "markdown",
   "metadata": {},
   "source": [
    "### (d) Is the data a discrete representation of the $x^n$ (power law) or $e^{nx}$  (exponential law)? State why you have given the answer you have."
   ]
  },
  {
   "cell_type": "markdown",
   "metadata": {},
   "source": [
    "The data is a descrete representation of the power law as when plotting the log scale, the graph yielded an exponential relationship, and when plotting the log-log scale, the graph yielded a straigh line slope, meaning that it was a power law function.\n",
    "\n",
    "Reference from class lecture 3 notes\n",
    "- \"Exponential functions look straight on a log plot\"\n",
    "- \"Power law functions looks straight on a log-log plot\""
   ]
  },
  {
   "cell_type": "markdown",
   "metadata": {},
   "source": [
    "### (e) By examining the plots, determine the value of $n$."
   ]
  },
  {
   "cell_type": "markdown",
   "metadata": {},
   "source": [
    "Using the log-log scale plot, $log(x)$ VS $log(y)$\n",
    "\n",
    "$n = \\frac{rise}{run}$\n",
    "\n",
    "$n = \\frac{4}{2}$\n",
    "\n",
    "$n = 2$"
   ]
  },
  {
   "cell_type": "markdown",
   "metadata": {},
   "source": [
    "### (f) Commit and push your code to GitHub."
   ]
  },
  {
   "cell_type": "markdown",
   "metadata": {},
   "source": [
    "Done!"
   ]
  },
  {
   "cell_type": "markdown",
   "metadata": {},
   "source": [
    "## Question 4\n",
    "### To submit your assignment you should make sure it is pushed to GitHub by the deadline."
   ]
  },
  {
   "cell_type": "markdown",
   "metadata": {},
   "source": [
    "Done!"
   ]
  },
  {
   "cell_type": "markdown",
   "metadata": {},
   "source": [
    "## Question 5\n",
    "### Still looking for ways to improve your Python coding? Try the problems at projecteuler.net/archives or try to run some of the examples from matplotlib (matplotlib.org/gallery)."
   ]
  },
  {
   "cell_type": "markdown",
   "metadata": {},
   "source": [
    "Done!"
   ]
  }
 ],
 "metadata": {
  "kernelspec": {
   "display_name": "Python 3",
   "language": "python",
   "name": "python3"
  },
  "language_info": {
   "codemirror_mode": {
    "name": "ipython",
    "version": 3
   },
   "file_extension": ".py",
   "mimetype": "text/x-python",
   "name": "python",
   "nbconvert_exporter": "python",
   "pygments_lexer": "ipython3",
   "version": "3.8.3"
  }
 },
 "nbformat": 4,
 "nbformat_minor": 4
}
